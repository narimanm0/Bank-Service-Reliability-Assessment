{
 "cells": [
  {
   "cell_type": "code",
   "execution_count": null,
   "id": "d6cbc066-ccac-4e73-be64-93965ae00a31",
   "metadata": {},
   "outputs": [],
   "source": [
    "import requests\n",
    "import time\n",
    "import csv\n",
    "import matplotlib\n",
    "import matplotlib.pyplot as plt"
   ]
  },
  {
   "cell_type": "code",
   "execution_count": 4,
   "id": "86bfb19d-888c-4ed5-8083-98c271b89763",
   "metadata": {},
   "outputs": [],
   "source": [
    "BANK_SERVICE_URL = \"https://latest-960957615762.me-central1.run.app\"\n",
    "BALANCE_ENDPOINT = f\"{BANK_SERVICE_URL}/getbalance\"\n",
    "LOGS_ENDPOINT = f\"{BANK_SERVICE_URL}/getlogs\"\n",
    "NUMBER_OF_REQUESTS = 100\n",
    "REQUEST_TIMEOUT = 10\n",
    "DELAY_BETWEEN_REQUESTS = 0.1"
   ]
  },
  {
   "cell_type": "code",
   "execution_count": 5,
   "id": "0c67d009-e584-496f-af35-9f10bfbd4ce0",
   "metadata": {},
   "outputs": [],
   "source": [
    "def invoke(): # invoking the banking service 100 times to generate log data\n",
    "    print(f\"[1/3] Invoking {NUMBER_OF_REQUESTS} times\")\n",
    "    cnt = 0\n",
    "    \n",
    "    for i in range(NUMBER_OF_REQUESTS):\n",
    "        try:\n",
    "            response = requests.get(BALANCE_ENDPOINT, timeout=REQUEST_TIMEOUT)\n",
    "            print(f\"Request № {i+1} out of {NUMBER_OF_REQUESTS}: Status {response.status_code}\")\n",
    "        except requests.exceptions.RequestException as e:\n",
    "            print(f\"Request № {i+1} out of {NUMBER_OF_REQUESTS}: ERROR: ({type(e).__name__})\")\n",
    "        \n",
    "        cnt += 1\n",
    "        time.sleep(DELAY_BETWEEN_REQUESTS)\n",
    "\n",
    "    print(f\"{cnt} Requests are DONE!\")"
   ]
  },
  {
   "cell_type": "code",
   "execution_count": 6,
   "id": "b2ea6043-d1d7-4f30-9496-1e76ca5e8445",
   "metadata": {},
   "outputs": [],
   "source": [
    "def fetch_logs():\n",
    "    print(\"[2/3] Fetching logs...\")\n",
    "    try:\n",
    "        resp = requests.get(LOGS_ENDPOINT, timeout=10)\n",
    "        resp.raise_for_status()\n",
    "        return resp.text\n",
    "    except Exception as e:\n",
    "        print(f\"Failed to fetch logs: {e}\")\n",
    "        return \"\""
   ]
  },
  {
   "cell_type": "code",
   "execution_count": null,
   "id": "02e1da49-bfbd-4d10-9f62-5cedd74b27a6",
   "metadata": {},
   "outputs": [],
   "source": [
    "def parse_logs(log_text):\n",
    "    \"\"\"Parse logs to count requests and errors.\"\"\"\n",
    "    lines = [line.strip() for line in log_text.strip().split('\\n') if line.strip()]\n",
    "    \n",
    "    total_requests = sum(1 for line in lines if \"Processing GET request\" in line)\n",
    "    errors_500 = sum(1 for line in lines if \"ERROR Internal Server Error [500]\" in line)\n",
    "    errors_db = sum(1 for line in lines if \"ERROR Database Connection Pool Empty\" in line)\n",
    "    warnings = sum(1 for line in lines if \"WARNING Server Latency is\" in line)\n",
    "    \n",
    "    # Warnings are NOT failures — ignore them for reliability calculation\n",
    "    failures = errors_500 + errors_db\n",
    "    successes = max(0, total_requests - failures) # avoiding from negative\n",
    "    \n",
    "    return total_requests, errors_500, errors_db, successes, warnings"
   ]
  }
 ],
 "metadata": {
  "kernelspec": {
   "display_name": "Python [conda env:base] *",
   "language": "python",
   "name": "conda-base-py"
  },
  "language_info": {
   "codemirror_mode": {
    "name": "ipython",
    "version": 3
   },
   "file_extension": ".py",
   "mimetype": "text/x-python",
   "name": "python",
   "nbconvert_exporter": "python",
   "pygments_lexer": "ipython3",
   "version": "3.13.5"
  }
 },
 "nbformat": 4,
 "nbformat_minor": 5
}
