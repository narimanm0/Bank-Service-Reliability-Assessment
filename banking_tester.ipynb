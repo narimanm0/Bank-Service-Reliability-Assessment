{
 "cells": [
  {
   "cell_type": "code",
   "execution_count": 20,
   "id": "d6cbc066-ccac-4e73-be64-93965ae00a31",
   "metadata": {},
   "outputs": [],
   "source": [
    "import requests\n",
    "import time\n",
    "import csv\n",
    "import matplotlib\n",
    "import matplotlib.pyplot as plt"
   ]
  },
  {
   "cell_type": "code",
   "execution_count": 21,
   "id": "86bfb19d-888c-4ed5-8083-98c271b89763",
   "metadata": {},
   "outputs": [],
   "source": [
    "BANK_SERVICE_URL = \"https://latest-960957615762.me-central1.run.app\"\n",
    "BALANCE_ENDPOINT = f\"{BANK_SERVICE_URL}/getbalance\"\n",
    "LOGS_ENDPOINT = f\"{BANK_SERVICE_URL}/getlogs\"\n",
    "NUMBER_OF_REQUESTS = 100\n",
    "REQUEST_TIMEOUT = 10\n",
    "DELAY_BETWEEN_REQUESTS = 0.1"
   ]
  },
  {
   "cell_type": "code",
   "execution_count": 22,
   "id": "0c67d009-e584-496f-af35-9f10bfbd4ce0",
   "metadata": {},
   "outputs": [],
   "source": [
    "def invoke(): # invoking the banking service 100 times to generate log data\n",
    "    print(f\"[1/3] Invoking {NUMBER_OF_REQUESTS} times\")\n",
    "    cnt = 0\n",
    "    \n",
    "    for i in range(NUMBER_OF_REQUESTS):\n",
    "        try:\n",
    "            response = requests.get(BALANCE_ENDPOINT, timeout=REQUEST_TIMEOUT)\n",
    "            print(f\"Request № {i+1} out of {NUMBER_OF_REQUESTS}: Status {response.status_code}\")\n",
    "        except requests.exceptions.RequestException as e:\n",
    "            print(f\"Request № {i+1} out of {NUMBER_OF_REQUESTS}: ERROR: ({type(e).__name__})\")\n",
    "        \n",
    "        cnt += 1\n",
    "        time.sleep(DELAY_BETWEEN_REQUESTS)\n",
    "\n",
    "    print(f\"{cnt} Requests are DONE!\")"
   ]
  },
  {
   "cell_type": "code",
   "execution_count": 23,
   "id": "b2ea6043-d1d7-4f30-9496-1e76ca5e8445",
   "metadata": {},
   "outputs": [],
   "source": [
    "def fetch_logs():\n",
    "    print(\"[2/3] Fetching logs...\")\n",
    "    try:\n",
    "        resp = requests.get(LOGS_ENDPOINT, timeout=10)\n",
    "        resp.raise_for_status()\n",
    "        return resp.text\n",
    "    except Exception as e:\n",
    "        print(f\"Failed to fetch logs: {e}\")\n",
    "        return \"\""
   ]
  },
  {
   "cell_type": "code",
   "execution_count": 24,
   "id": "02e1da49-bfbd-4d10-9f62-5cedd74b27a6",
   "metadata": {},
   "outputs": [],
   "source": [
    "def parse_logs(log_text):\n",
    "    \"\"\"Parse logs to count requests and errors.\"\"\"\n",
    "    lines = [line.strip() for line in log_text.strip().split('\\n') if line.strip()]\n",
    "    \n",
    "    total_requests = sum(1 for line in lines if \"Processing GET request\" in line)\n",
    "    errors_500 = sum(1 for line in lines if \"ERROR Internal Server Error [500]\" in line)\n",
    "    errors_db = sum(1 for line in lines if \"ERROR Database Connection Pool Empty\" in line)\n",
    "    warnings = sum(1 for line in lines if \"WARNING Server Latency is\" in line)\n",
    "    \n",
    "    # Warnings are NOT failures — ignore them for reliability calculation\n",
    "    failures = errors_500 + errors_db\n",
    "    successes = max(0, total_requests - failures) # avoiding from negative\n",
    "    \n",
    "    return total_requests, errors_500, errors_db, successes, warnings"
   ]
  },
  {
   "cell_type": "code",
   "execution_count": 25,
   "id": "500f4023-533c-4a61-b08e-c007a96fc4ea",
   "metadata": {},
   "outputs": [],
   "source": [
    "def save_results(total, successes, errors_500, errors_db, warnings):\n",
    "    filepath = \"results.csv\"\n",
    "    with open(filepath, 'w', newline='') as f:\n",
    "        writer = csv.writer(f)\n",
    "        writer.writerow([\"Metric\", \"Count\"])\n",
    "        writer.writerow([\"Total Requests\", total])\n",
    "        writer.writerow([\"Successful Requests\", successes])\n",
    "        writer.writerow([\"Failures - Internal Server Error (500)\", errors_500])\n",
    "        writer.writerow([\"Failures - Database Connection Pool Empty\", errors_db])\n",
    "        writer.writerow([\"Warnings - Server Latency\", warnings])\n",
    "        writer.writerow([\"Reliability (%)\", f\"{(successes / total) * 100:.2f}\" if total > 0 else \"N/A\"])\n",
    "    print(f\"Results saved to {filepath}\")"
   ]
  },
  {
   "cell_type": "code",
   "execution_count": 26,
   "id": "057c82e8-d5fe-417d-ae6b-63f4fe05ae9c",
   "metadata": {},
   "outputs": [],
   "source": [
    "def plot_results(successes, errors_500, errors_db, warnings):\n",
    "    plt.figure(figsize=(6, 6))\n",
    "    plt.pie(\n",
    "        [successes, errors_500, errors_db, warnings],\n",
    "        labels=[\"Success\",\"Warnings\", \"Failure - 500\", \"Failure - DB\", ],\n",
    "        colors=[\"#4CAF50\", \"#FFFF00\", \"#F44336\", \"#FF7F50\"],\n",
    "        autopct='%1.1f%%',\n",
    "        startangle=90\n",
    "    )\n",
    "    plt.title(f\"Banking Service Reliability\")\n",
    "    plt.tight_layout()\n",
    "    chart_path = \"reliability.png\"\n",
    "    plt.savefig(chart_path)\n",
    "    print(f\"Chart saved to {chart_path}\")"
   ]
  },
  {
   "cell_type": "code",
   "execution_count": 27,
   "id": "835bdc92-7509-4655-b51e-0391e6eaab41",
   "metadata": {},
   "outputs": [],
   "source": [
    "def main():\n",
    "    invoke()\n",
    "    log_data = fetch_logs()\n",
    "    if not log_data:\n",
    "        print(\"No log data retrieved!\")\n",
    "        return\n",
    "\n",
    "    total, errors_500, errors_db, successes, warnings = parse_logs(log_data)\n",
    "    failures = errors_500 + errors_db\n",
    "\n",
    "    if total == 0:\n",
    "        print(\"No 'Processing GET request' lines found in logs.\")\n",
    "        return\n",
    "\n",
    "    reliability = (successes / total) * 100\n",
    "    print(f\"\\n[3/3] RELIABILITY REPORT\")\n",
    "    print(f\"Total logged requests:     {total}\")\n",
    "    print(f\"Successful responses:      {successes} ({reliability:.1f}%)\")\n",
    "    print(f\"Failures (500 errors):     {errors_500}\")\n",
    "    print(f\"Failures (DB pool empty):  {errors_db}\")\n",
    "    print(f\"Warnings:                  {warnings}\")\n",
    "    print(f\"Total failures:            {failures}\")\n",
    "\n",
    "    save_results(total, successes, errors_500, errors_db, warnings)\n",
    "    plot_results(successes, errors_500, errors_db, warnings)\n",
    "\n",
    "    print(\"\\nAutomation complete!\")"
   ]
  },
  {
   "cell_type": "code",
   "execution_count": null,
   "id": "9258edff-1b54-4bfe-ab79-32e9fbfa2535",
   "metadata": {},
   "outputs": [
    {
     "name": "stdout",
     "output_type": "stream",
     "text": [
      "[1/3] Invoking 100 times\n",
      "Request № 1 out of 100: Status 200\n",
      "Request № 2 out of 100: Status 200\n",
      "Request № 3 out of 100: Status 200\n",
      "Request № 4 out of 100: Status 500\n",
      "Request № 5 out of 100: Status 200\n",
      "Request № 6 out of 100: Status 200\n",
      "Request № 7 out of 100: Status 200\n",
      "Request № 8 out of 100: Status 200\n",
      "Request № 9 out of 100: Status 200\n",
      "Request № 10 out of 100: Status 200\n",
      "Request № 11 out of 100: Status 200\n",
      "Request № 12 out of 100: Status 200\n",
      "Request № 13 out of 100: Status 200\n",
      "Request № 14 out of 100: Status 200\n",
      "Request № 15 out of 100: Status 200\n",
      "Request № 16 out of 100: Status 200\n",
      "Request № 17 out of 100: Status 200\n",
      "Request № 18 out of 100: Status 200\n",
      "Request № 19 out of 100: Status 200\n",
      "Request № 20 out of 100: Status 200\n",
      "Request № 21 out of 100: Status 200\n",
      "Request № 22 out of 100: Status 200\n",
      "Request № 23 out of 100: Status 200\n",
      "Request № 24 out of 100: Status 200\n",
      "Request № 25 out of 100: Status 200\n",
      "Request № 26 out of 100: Status 200\n",
      "Request № 27 out of 100: Status 500\n",
      "Request № 28 out of 100: Status 200\n",
      "Request № 29 out of 100: Status 200\n",
      "Request № 30 out of 100: Status 200\n",
      "Request № 31 out of 100: Status 200\n",
      "Request № 32 out of 100: Status 200\n",
      "Request № 33 out of 100: Status 200\n",
      "Request № 34 out of 100: Status 200\n",
      "Request № 35 out of 100: Status 200\n",
      "Request № 36 out of 100: Status 500\n",
      "Request № 37 out of 100: Status 200\n",
      "Request № 38 out of 100: Status 500\n",
      "Request № 39 out of 100: Status 200\n",
      "Request № 40 out of 100: Status 200\n",
      "Request № 41 out of 100: Status 200\n",
      "Request № 42 out of 100: Status 200\n",
      "Request № 43 out of 100: Status 200\n",
      "Request № 44 out of 100: Status 200\n",
      "Request № 45 out of 100: Status 200\n",
      "Request № 46 out of 100: Status 200\n",
      "Request № 47 out of 100: Status 200\n",
      "Request № 48 out of 100: Status 200\n",
      "Request № 49 out of 100: Status 200\n",
      "Request № 50 out of 100: Status 200\n",
      "Request № 51 out of 100: Status 200\n",
      "Request № 52 out of 100: Status 200\n",
      "Request № 53 out of 100: Status 200\n",
      "Request № 54 out of 100: Status 200\n",
      "Request № 55 out of 100: Status 200\n",
      "Request № 56 out of 100: Status 200\n",
      "Request № 57 out of 100: Status 200\n",
      "Request № 58 out of 100: Status 500\n",
      "Request № 59 out of 100: Status 200\n"
     ]
    }
   ],
   "source": [
    "if __name__ == \"__main__\":\n",
    "    main()"
   ]
  }
 ],
 "metadata": {
  "kernelspec": {
   "display_name": "Python [conda env:base] *",
   "language": "python",
   "name": "conda-base-py"
  },
  "language_info": {
   "codemirror_mode": {
    "name": "ipython",
    "version": 3
   },
   "file_extension": ".py",
   "mimetype": "text/x-python",
   "name": "python",
   "nbconvert_exporter": "python",
   "pygments_lexer": "ipython3",
   "version": "3.13.5"
  }
 },
 "nbformat": 4,
 "nbformat_minor": 5
}
