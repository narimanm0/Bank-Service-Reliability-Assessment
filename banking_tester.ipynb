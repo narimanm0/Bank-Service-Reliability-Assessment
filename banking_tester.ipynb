{
 "cells": [
  {
   "cell_type": "code",
   "execution_count": null,
   "id": "d6cbc066-ccac-4e73-be64-93965ae00a31",
   "metadata": {},
   "outputs": [],
   "source": [
    "import requests\n",
    "import time\n",
    "import csv\n",
    "import matplotlib\n",
    "import matplotlib.pyplot as plt"
   ]
  },
  {
   "cell_type": "code",
   "execution_count": null,
   "id": "86bfb19d-888c-4ed5-8083-98c271b89763",
   "metadata": {},
   "outputs": [],
   "source": [
    "BANK_SERVICE_URL = \"https://latest-960957615762.me-central1.run.app\"\n",
    "BALANCE_ENDPOINT = f\"{BANK_SERVICE_URL}/getbalance\"\n",
    "LOGS_ENDPOINT = f\"{BANK_SERVICE_URL}/getlogs\"\n",
    "NUMBER_OF_REQUESTS = 100\n",
    "REQUEST_TIMEOUT = 10\n",
    "DELAY_BETWEEN_REQUESTS = 0.1"
   ]
  }
 ],
 "metadata": {
  "kernelspec": {
   "display_name": "Python [conda env:base] *",
   "language": "python",
   "name": "conda-base-py"
  },
  "language_info": {
   "codemirror_mode": {
    "name": "ipython",
    "version": 3
   },
   "file_extension": ".py",
   "mimetype": "text/x-python",
   "name": "python",
   "nbconvert_exporter": "python",
   "pygments_lexer": "ipython3",
   "version": "3.13.5"
  }
 },
 "nbformat": 4,
 "nbformat_minor": 5
}
