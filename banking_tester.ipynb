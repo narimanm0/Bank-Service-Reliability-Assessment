{
 "cells": [
  {
   "cell_type": "code",
   "execution_count": null,
   "id": "d6cbc066-ccac-4e73-be64-93965ae00a31",
   "metadata": {},
   "outputs": [],
   "source": [
    "import requests\n",
    "import time\n",
    "import csv\n",
    "import matplotlib\n",
    "import matplotlib.pyplot as plt"
   ]
  },
  {
   "cell_type": "code",
   "execution_count": 1,
   "id": "86bfb19d-888c-4ed5-8083-98c271b89763",
   "metadata": {},
   "outputs": [],
   "source": [
    "BANK_SERVICE_URL = \"https://latest-960957615762.me-central1.run.app\"\n",
    "BALANCE_ENDPOINT = f\"{BANK_SERVICE_URL}/getbalance\"\n",
    "LOGS_ENDPOINT = f\"{BANK_SERVICE_URL}/getlogs\"\n",
    "NUMBER_OF_REQUESTS = 100\n",
    "REQUEST_TIMEOUT = 10\n",
    "DELAY_BETWEEN_REQUESTS = 0.1"
   ]
  },
  {
   "cell_type": "code",
   "execution_count": null,
   "id": "0c67d009-e584-496f-af35-9f10bfbd4ce0",
   "metadata": {},
   "outputs": [],
   "source": [
    "def invoke(): # invoking the banking service 100 times to generate log data\n",
    "    print(f\"[1/3] Invoking {NUMBER_OF_REQUESTS} times\")\n",
    "    cnt = 0\n",
    "    \n",
    "    for i in range(NUMBER_OF_REQUESTS):\n",
    "        try:\n",
    "            response = requests.get(BALANCE_ENDPOINT, timeout=REQUEST_TIMEOUT)\n",
    "            print(f\"Request № {i+1} out of {NUMBER_OF_REQUESTS}: Status {response.status_code}\")\n",
    "        except requests.exceptions.RequestException as e:\n",
    "            print(f\"Request № {i+1} out of {NUMBER_OF_REQUESTS}: ERROR: ({type(e).__name__})\")\n",
    "        \n",
    "        cnt += 1\n",
    "        time.sleep(DELAY_BETWEEN_REQUESTS)\n",
    "\n",
    "    print(f\"{cnt} Requests are DONE!\")"
   ]
  }
 ],
 "metadata": {
  "kernelspec": {
   "display_name": "Python [conda env:base] *",
   "language": "python",
   "name": "conda-base-py"
  },
  "language_info": {
   "codemirror_mode": {
    "name": "ipython",
    "version": 3
   },
   "file_extension": ".py",
   "mimetype": "text/x-python",
   "name": "python",
   "nbconvert_exporter": "python",
   "pygments_lexer": "ipython3",
   "version": "3.13.5"
  }
 },
 "nbformat": 4,
 "nbformat_minor": 5
}
